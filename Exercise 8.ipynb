{
  "cells": [
    {
      "cell_type": "markdown",
      "metadata": {
        "id": "szkkhiCZDF52"
      },
      "source": [
        "# Exercise 8:  Linear models, continued\n",
        "\n",
        "This homework assignment is designed to give you a deeper understanding of linear models. First, we'll dive into the math behind the closed-form solution of maximum likelihood estimation. **In the first section below, write your answers using Latex equation formatting.**\n",
        "\n",
        "*Note: Check out [this page](https://gtribello.github.io/mathNET/assets/notebook-writing.html) and [this page](https://towardsdatascience.com/write-markdown-latex-in-the-jupyter-notebook-10985edb91fd) for resources on how to do Latex formatting. You can also double click on the question cells in this notebook to see how math is formatted in the questions.*\n"
      ]
    },
    {
      "cell_type": "markdown",
      "metadata": {
        "id": "QJscNReoylRt"
      },
      "source": [
        "---\n",
        "## 1. Deriving the Maximum Likelihood Estimate for Simple Linear Regression (6 points)"
      ]
    },
    {
      "cell_type": "markdown",
      "metadata": {
        "id": "nH82gwuymPi0"
      },
      "source": [
        "Using the mean squared error (MSE) as your objective function (the thing you're trying to minimize when you fit your model) allows for a closed form solution to finding the maximum likelihood estimate (MLE) of your model parameters in linear regression. Let’s consider the simple, single predictor variable model, i.e. simple linear regression :  $Y= \\beta_0 + \\beta_1 X $.\n",
        "\n",
        "a) Use algebra to show how you can expand out $MSE(\\beta_0, \\beta_1)$ to get from i to ii below.\n",
        "\n",
        "> _i)_ $E[ (Y-(\\beta_0 + \\beta_1 X))^2]$\n",
        "\n",
        "> _ii)_ $E[Y^2] -2 \\beta_0E[Y]-2 \\beta_1 Cov[X,Y]-2 \\beta_1 E[X]E[Y]+ \\beta_0^2 +2 \\beta_0 \\beta_1 E[X]+\\beta_1^2 Var[X]+ \\beta_1^2 (E[X])^2$\n",
        "\n",
        "\n",
        "\n",
        "\n"
      ]
    },
    {
      "cell_type": "markdown",
      "metadata": {
        "id": "dn2hveNho-Of"
      },
      "source": [
        "**Answer:**\n",
        "\n",
        "> i)  𝐸[(𝑌−(𝛽0+𝛽1𝑋))²]\n",
        "\n",
        "> E(𝑌−(β₀+𝛽₁𝑋))² = E[(Y - β₀+𝛽₁𝑋)(Y - β₀+𝛽₁𝑋)]\n",
        "\n",
        "> E[Y²-Yβ₀-Y𝛽₁𝑋-β₀Y+β₀²+β₀𝛽₁𝑋-𝛽₁𝑋Y+𝛽₁β₀X+𝛽₁²X²]\n",
        "\n",
        "> E[Y²]-E[Yβ₀]-E[Y𝛽₁𝑋]-E[β₀Y]+E[β₀²]+E[β₀𝛽₁𝑋]+E[𝛽₁𝑋Y]+E[𝛽₁β₀X]+E[𝛽₁²X²]\n",
        "\n",
        "> E[Y²]- β₀E[Y]-𝛽₁E[𝑋Y]-β₀E[Y]+β₀²+β₀𝛽₁E[𝑋]+𝛽₁E[𝑋Y]+β₀𝛽₁E[X]+𝛽₁²E[X²]\n",
        "\n",
        "> E[Y²]- 2β₀E[Y]-2𝛽₁E[𝑋Y]+β₀²+2β₀𝛽₁E[𝑋]+ 𝛽₁²E[X²]\n",
        "\n",
        "> 𝐸[𝑌²]−2𝛽₀𝐸[𝑌]−2𝛽₁𝐶𝑜𝑣[𝑋,𝑌]+ 𝐸[𝑋]𝐸[𝑌]+𝛽₀²+2𝛽₀𝛽₁𝐸[𝑋]+𝛽₁²(𝑉𝑎𝑟[𝑋]+(𝐸[𝑋])²)\n",
        "\n",
        "> 𝐸[𝑌²]−2𝛽₀𝐸[𝑌]−2𝛽₁𝐶𝑜𝑣[𝑋,𝑌] - 2𝛽₁𝐸[𝑋]𝐸[𝑌]+𝛽₀²+2𝛽₀𝛽₁𝐸[𝑋]+𝛽₁²(𝑉𝑎𝑟[𝑋]+𝛽₁²(𝐸[𝑋])²\n",
        "\n",
        "> ii)  𝐸[𝑌²]−2𝛽₀𝐸[𝑌]−2𝛽₁𝐶𝑜𝑣[𝑋,𝑌]−2𝛽₁𝐸[𝑋]𝐸[𝑌]+𝛽₀²+2𝛽₀𝛽₁𝐸[𝑋]+𝛽₁²𝑉𝑎𝑟[𝑋]+𝛽₁²(𝐸[𝑋])²\n"
      ]
    },
    {
      "cell_type": "markdown",
      "source": [],
      "metadata": {
        "id": "EkJYwVMok1NY"
      }
    },
    {
      "cell_type": "markdown",
      "metadata": {
        "id": "GCr46r9xwRXP"
      },
      "source": [
        "b) Prove that the MLE of $\\beta_0$ is $E[Y]- \\beta_1 E[X]$ by taking the derivative of _ii_ above, with respect to $\\beta_0$, setting the derivative to zero, and solving for $\\beta_0$."
      ]
    },
    {
      "cell_type": "markdown",
      "metadata": {
        "id": "Ul-PZyLbwTCQ"
      },
      "source": [
        "**Answer:**\n",
        "\n",
        "> MSE(𝛽₀,𝛽₁)/𝛽₀ = - 2E[𝑌]+ 2𝛽₀ + 2𝛽₁E[X]\n",
        ">\n",
        "\n",
        "*   -2E[𝑌]+ 2𝛽₀ + 2𝛽₁E[X]= 0\n",
        "*   -E[𝑌]+ 𝛽₀ + 𝛽₁E[X]= 0\n",
        "*   𝛽₀ = E[𝑌]- 𝛽₁E[X]\n"
      ]
    },
    {
      "cell_type": "markdown",
      "metadata": {
        "id": "-uv4Z7afw4gB"
      },
      "source": [
        "c) Prove that the MLE for $\\beta_1$ is $Cov[X,Y]/Var[X]$ by taking the derivative of equation _ii_ above, with respect to $\\beta_1$, setting the derivative to zero, and solving for $\\beta_1$. *Hint: after you've simplified / expanded a bit, plug in the solution for $\\beta_0$ from part b.*"
      ]
    },
    {
      "cell_type": "markdown",
      "metadata": {
        "id": "sWTFZ6ZSw6sh"
      },
      "source": [
        "**Answer:**\n",
        "\n",
        "> MSE(𝛽₀,𝛽₁)/𝛽₁= -2cov[X, 𝑌] - 2E[X]E[Y] + 2𝛽₀E[X] + 2𝛽₁Var(X) + 2𝛽₁(E[X])²\n",
        "\n",
        "*   -2cov[X, 𝑌]- 2E[X]E[Y] + 2𝛽₀E[X] + 2𝛽₁Var(X) + 2𝛽₁(E[X])² = 0\n",
        "*  -Cov[X, 𝑌]- E[X]E[Y] + 𝛽₀E[X] + 𝛽₁Var(X) + 𝛽₁(E[X])² = 0\n",
        "\n",
        "*   -Cov[X, 𝑌]- E[X]E[Y] + (E[Y] + 𝛽₁E[X])E[X] + 𝛽₁Var(X) + 𝛽₁(E[X])² = 0\n",
        "\n",
        "*   -Cov[X, 𝑌]- E[X]E[Y] + (E[Y]E[X] + 𝛽₁(E[X])² + 𝛽₁Var(X) + 𝛽₁(E[X])² = 0\n",
        "*   -Cov[X, 𝑌]+ 𝛽₁Var(X) = 0\n",
        "\n",
        "*   𝛽₁Var(X) =  Cov(X, Y)\n",
        "*   𝛽₁ = Cov(X, Y)/ Var(X)\n",
        "\n",
        "\n",
        "\n",
        "\n",
        "\n",
        "\n",
        "\n",
        "\n"
      ]
    },
    {
      "cell_type": "markdown",
      "metadata": {
        "id": "66X264ZpDF58"
      },
      "source": [
        "---\n",
        "## 2. Connecting to data (4 points)\n",
        "\n",
        "Now let's connect this to some real data. Once again we'll be using the  **unrestricted_trimmed_1_7_2020_10_50_44.csv** file from the *Homework/hcp_data* folder in the class GitHub repository.\n",
        "\n",
        "​\n",
        "This data is a portion of the [Human Connectome Project database](http://www.humanconnectomeproject.org/). It provides measures of cognitive tasks and brain morphology measurements from 1206 participants. The full description of each variable is provided in the **HCP_S1200_DataDictionary_April_20_2018.csv** file in the *Homework/hcp_data* folder in the class GitHub repository.\n",
        "\n",
        "a) Use the `setwd` and `read.csv` functions to load data from the **unrestricted_trimmed_1_7_2020_10_50_44.csv** file. Then use the `tidyverse` tools make a new dataframe `d1` that only inclues the subject ID (`Subject`), Flanker Task performance (`Flanker_Unadj`), and total grey matter volume (`FS_Total_GM_Vol`) variables and remove all _NA_ values.\n",
        "\n",
        "Use the `head` function to look at the first few rows of each data frame."
      ]
    },
    {
      "cell_type": "code",
      "execution_count": 3,
      "metadata": {
        "id": "PZ0lngBjDF58",
        "vscode": {
          "languageId": "r"
        },
        "outputId": "d5bb45a7-ae19-4165-b5bf-051e825625a8",
        "colab": {
          "base_uri": "https://localhost:8080/",
          "height": 286
        }
      },
      "outputs": [
        {
          "output_type": "display_data",
          "data": {
            "text/html": [
              "<table class=\"dataframe\">\n",
              "<caption>A data.frame: 6 × 3</caption>\n",
              "<thead>\n",
              "\t<tr><th></th><th scope=col>Subject</th><th scope=col>Flanker_Unadj</th><th scope=col>FS_Total_GM_Vol</th></tr>\n",
              "\t<tr><th></th><th scope=col>&lt;int&gt;</th><th scope=col>&lt;dbl&gt;</th><th scope=col>&lt;int&gt;</th></tr>\n",
              "</thead>\n",
              "<tbody>\n",
              "\t<tr><th scope=row>1</th><td>100206</td><td>130.42</td><td>807245</td></tr>\n",
              "\t<tr><th scope=row>2</th><td>100307</td><td>112.56</td><td>664124</td></tr>\n",
              "\t<tr><th scope=row>3</th><td>100408</td><td>121.18</td><td>726206</td></tr>\n",
              "\t<tr><th scope=row>4</th><td>100610</td><td>126.53</td><td>762308</td></tr>\n",
              "\t<tr><th scope=row>5</th><td>101006</td><td>101.85</td><td>579632</td></tr>\n",
              "\t<tr><th scope=row>6</th><td>101107</td><td>107.04</td><td>665024</td></tr>\n",
              "</tbody>\n",
              "</table>\n"
            ],
            "text/markdown": "\nA data.frame: 6 × 3\n\n| <!--/--> | Subject &lt;int&gt; | Flanker_Unadj &lt;dbl&gt; | FS_Total_GM_Vol &lt;int&gt; |\n|---|---|---|---|\n| 1 | 100206 | 130.42 | 807245 |\n| 2 | 100307 | 112.56 | 664124 |\n| 3 | 100408 | 121.18 | 726206 |\n| 4 | 100610 | 126.53 | 762308 |\n| 5 | 101006 | 101.85 | 579632 |\n| 6 | 101107 | 107.04 | 665024 |\n\n",
            "text/latex": "A data.frame: 6 × 3\n\\begin{tabular}{r|lll}\n  & Subject & Flanker\\_Unadj & FS\\_Total\\_GM\\_Vol\\\\\n  & <int> & <dbl> & <int>\\\\\n\\hline\n\t1 & 100206 & 130.42 & 807245\\\\\n\t2 & 100307 & 112.56 & 664124\\\\\n\t3 & 100408 & 121.18 & 726206\\\\\n\t4 & 100610 & 126.53 & 762308\\\\\n\t5 & 101006 & 101.85 & 579632\\\\\n\t6 & 101107 & 107.04 & 665024\\\\\n\\end{tabular}\n",
            "text/plain": [
              "  Subject Flanker_Unadj FS_Total_GM_Vol\n",
              "1 100206  130.42        807245         \n",
              "2 100307  112.56        664124         \n",
              "3 100408  121.18        726206         \n",
              "4 100610  126.53        762308         \n",
              "5 101006  101.85        579632         \n",
              "6 101107  107.04        665024         "
            ]
          },
          "metadata": {}
        }
      ],
      "source": [
        "system(\"gdown --id 1hywRmGdvhbDYTrQRyl1_bLJsq-T3GJq2\")\n",
        "df<- read.csv(\"unrestricted_trimmed_1_7_2020_10_50_44.csv\")\n",
        "library(tidyverse)\n",
        "human<-df %>%\n",
        "select(Subject, Flanker_Unadj,FS_Total_GM_Vol) %>%\n",
        "drop_na()\n",
        "head(human)\n",
        "\n"
      ]
    },
    {
      "cell_type": "markdown",
      "metadata": {
        "id": "J3owDQ0U2Ewn"
      },
      "source": [
        "b) Now we're going to see if the solutions we proved above actually line up with the model fit that R gives us (it should...). Calculate what the $\\beta_0$ and $\\beta_1$ coefficients should be for a simple linear regression model using `Flanker_Unadj` as $Y$ and `FS_Total_GM_Vol` as $X$. Use the formulas we derived above ($\\beta_1 = Cov[XY]/Var[X]$ , $\\beta_0 = E[Y] - \\beta_1E[X]$). Then use `lm()` to compare the coefficients you calculated with the ones R gives you."
      ]
    },
    {
      "cell_type": "code",
      "execution_count": 19,
      "metadata": {
        "id": "mWvD8shRDF5_",
        "vscode": {
          "languageId": "r"
        },
        "outputId": "77d3ea25-f25c-44ae-f48e-b1384bbac660",
        "colab": {
          "base_uri": "https://localhost:8080/"
        }
      },
      "outputs": [
        {
          "output_type": "stream",
          "name": "stdout",
          "text": [
            "[1] \"manualb0 90.2564608190943\"\n",
            "[1] \"manualb1 3.10996547106463e-05\"\n",
            "[1] \"beta0_regression: 90.2564608190942\"\n",
            "[1] \"beta1_regression: 3.10996547106464e-05\"\n"
          ]
        }
      ],
      "source": [
        "\n",
        "\n",
        "mean_X <- mean(human$FS_Total_GM_Vol)\n",
        "mean_Y <- mean(human$Flanker_Unadj)\n",
        "var_X <- var (human$FS_Total_GM_Vol)\n",
        "cov_XY <- cov(human$FS_Total_GM_Vol ,human$Flanker_Unadj)\n",
        "beta1 <- cov_XY/var_X\n",
        "beta0 <- mean_Y - beta1 * mean_X\n",
        "print(paste(\"manualb0\",beta0))\n",
        "print(paste(\"manualb1\",beta1))\n",
        "\n",
        "model1 <- lm (Flanker_Unadj ~ FS_Total_GM_Vol, data=human)\n",
        "beta0_reg <- coef(model1)[1]\n",
        "beta1_reg <- coef(model1)[2]\n",
        "\n",
        "print(paste(\"beta0_regression:\", beta0_reg))\n",
        "print(paste(\"beta1_regression:\", beta1_reg))\n"
      ]
    },
    {
      "cell_type": "markdown",
      "metadata": {
        "id": "xcnXbsZvDF6B"
      },
      "source": [
        "**DUE:** 5pm EST, Feb 26, 2025"
      ]
    },
    {
      "cell_type": "markdown",
      "metadata": {
        "id": "aG5swCweDF6B"
      },
      "source": [
        "**IMPORTANT** Did you collaborate with anyone on this assignment? If so, list their names here.\n",
        "> I checked my formulas and code using Gemini"
      ]
    }
  ],
  "metadata": {
    "colab": {
      "provenance": []
    },
    "kernelspec": {
      "display_name": "R",
      "name": "ir"
    },
    "language_info": {
      "name": "R"
    }
  },
  "nbformat": 4,
  "nbformat_minor": 0
}